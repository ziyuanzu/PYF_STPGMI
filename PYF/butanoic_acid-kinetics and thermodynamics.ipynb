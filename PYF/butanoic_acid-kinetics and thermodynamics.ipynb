{
 "cells": [
  {
   "cell_type": "markdown",
   "metadata": {},
   "source": [
    "# Module import"
   ]
  },
  {
   "cell_type": "code",
   "execution_count": 1,
   "metadata": {},
   "outputs": [],
   "source": [
    "from ETGEMs_function_ETG import *"
   ]
  },
  {
   "cell_type": "code",
   "execution_count": null,
   "metadata": {},
   "outputs": [],
   "source": [
    "import pandas as pd\n",
    "import cobra"
   ]
  },
  {
   "cell_type": "markdown",
   "metadata": {},
   "source": [
    "# Data initialization"
   ]
  },
  {
   "cell_type": "code",
   "execution_count": 3,
   "metadata": {},
   "outputs": [],
   "source": [
    "#Get Reaction G0 from local file_original\n",
    "reaction_g0_file_original = './reaction_g0_ETC_butanoic_acid.txt'\n",
    "#Get Metabolite concentration from local file\n",
    "metabolites_lnC_file_original = './metabolites_lnC_ETC_butanoic_acid.txt'\n",
    "#Get Model from local file\n",
    "model_file_original = './iML1515_butanoic_acid.xml'\n",
    "#Get reaction kcat data from ECMpy\n",
    "reaction_kcat_MW_file_original = './ID_kcat_MW_file_ETC_butanoic_acid.csv'"
   ]
  },
  {
   "cell_type": "code",
   "execution_count": 4,
   "metadata": {},
   "outputs": [],
   "source": [
    "Concretemodel_Need_Data_original=Get_Concretemodel_Need_Data(reaction_g0_file_original,metabolites_lnC_file_original,model_file_original,reaction_kcat_MW_file_original)"
   ]
  },
  {
   "cell_type": "code",
   "execution_count": 41,
   "metadata": {},
   "outputs": [],
   "source": [
    "Concretemodel_Need_Data_original['ub_list']['BUTCT'] = 0\n",
    "Concretemodel_Need_Data_original['ub_list']['EX_ac_e'] = 0\n",
    "Concretemodel_Need_Data_original['lb_list']['PPC'] = 0\n",
    "Concretemodel_Need_Data_original['lb_list']['LDH_D'] = 0\n",
    "Concretemodel_Need_Data_original['lb_list']['ACALD'] = 0\n",
    "Concretemodel_Need_Data_original['ub_list']['PPC'] = 0\n",
    "Concretemodel_Need_Data_original['ub_list']['LDH_D'] = 0\n",
    "Concretemodel_Need_Data_original['ub_list']['ACALD'] = 0\n",
    "Concretemodel_Need_Data_original['ub_list']['PTAr'] = 0\n",
    "\n",
    "#set the maximum of the intake rate for acetate\n",
    "Concretemodel_Need_Data_original['ub_list']['EX_ac_e_reverse'] = 2/60 * 180\n",
    "\n",
    "#set the gene expression level for the reaction of EX_ac_e_revers\n",
    "#if biomass_id='BIOMASS_Ec_iML1515_core_75p37M', the code in the next line can't be run. If biomass_id='EX_but_e', the code in the next line must be run.\n",
    "Concretemodel_Need_Data_original['lb_list']['BIOMASS_Ec_iML1515_core_75p37M'] = 0.95*0.475 #0.19"
   ]
  },
  {
   "cell_type": "markdown",
   "metadata": {},
   "source": [
    "# Data output files"
   ]
  },
  {
   "cell_type": "code",
   "execution_count": 42,
   "metadata": {
    "tags": []
   },
   "outputs": [
    {
     "name": "stdout",
     "output_type": "stream",
     "text": [
      "B value_original : 2.6670869363966334\n"
     ]
    }
   ],
   "source": [
    "#calculate the MDF value of the target pathway\n",
    "#if biomass_id='BIOMASS_Ec_iML1515_core_75p37M', the MDF value for cell groeth pathway will be calculated\n",
    "#if biomass_id='EX_but_e', the MDF value for butanoic acid production pathway will be calculated\n",
    "\n",
    "#biomass_id='BIOMASS_Ec_iML1515_core_75p37M'\n",
    "biomass_id='EX_but_e'\n",
    "E_total=0.19\n",
    "substrate_name='EX_glc__D_e_reverse'\n",
    "substrate_value=12\n",
    "biomass_value=0.25\n",
    "K_value=1249\n",
    "\n",
    "B_value_original=MDF_Calculation(Concretemodel_Need_Data = Concretemodel_Need_Data_original,biomass_value = biomass_value,biomass_id = biomass_id,substrate_name = substrate_name,substrate_value = substrate_value,K_value = K_value,E_total = E_total,solver = 'gurobi')\n",
    "print(\"B value_original : \" +str(B_value_original))"
   ]
  },
  {
   "cell_type": "code",
   "execution_count": 43,
   "metadata": {},
   "outputs": [
    {
     "name": "stdout",
     "output_type": "stream",
     "text": [
      "Max biomass value_original : 5.300230324126321\n"
     ]
    }
   ],
   "source": [
    "#calculate the maximum of the target reaction fluxes\n",
    "#if obj_name='BIOMASS_Ec_iML1515_core_75p37M', the max flux for BIOMASS_Ec_iML1515_core_75p37M will be calculated\n",
    "#if obj_name='EX_btoh_e', the max flux for butanoic acid production reaction will be calculated\n",
    "\n",
    "#obj_name='BIOMASS_Ec_iML1515_core_75p37M'\n",
    "obj_name='EX_but_e'\n",
    "obj_target='maximize'\n",
    "E_total=0.19\n",
    "substrate_name='EX_glc__D_e_reverse'\n",
    "substrate_value=12\n",
    "K_value=1249\n",
    "\n",
    "max_biomass_under_mdf_original=Max_Growth_Rate_Calculation(Concretemodel_Need_Data_original,obj_name,obj_target,substrate_name,substrate_value,K_value,E_total,B_value_original,'gurobi')\n",
    "if obj_name == 'BIOMASS_Ec_iML1515_core_75p37M':\n",
    "    print(\"Max biomass value_original : \" +str(max_biomass_under_mdf_original))\n",
    "elif obj_name == 'EX_but_e':\n",
    "    print(\"Max biomass value_original : \" +str(max_biomass_under_mdf_original*87/180))"
   ]
  },
  {
   "cell_type": "code",
   "execution_count": 8,
   "metadata": {},
   "outputs": [
    {
     "name": "stdout",
     "output_type": "stream",
     "text": [
      "Min flux amount_original : 797.9320811968599\n"
     ]
    }
   ],
   "source": [
    "## Minimum flux sum calculation（pFBA）\n",
    "\n",
    "biomass_id='EX_but_e'\n",
    "E_total=0.17\n",
    "substrate_name='EX_glc__D_e_reverse'\n",
    "substrate_value=12\n",
    "\n",
    "biomass_value_original=max_biomass_under_mdf_original*0.99\n",
    "\n",
    "K_value=1249\n",
    "\n",
    "B_value_original=B_value_original\n",
    "\n",
    "[min_V_original,Concretemodel_original]=Min_Flux_Sum_Calculation(Concretemodel_Need_Data_original,biomass_value_original,biomass_id,substrate_name,substrate_value,K_value,E_total,B_value_original,'gurobi')\n",
    "\n",
    "print(\"Min flux amount_original : \" +str(min_V_original))"
   ]
  },
  {
   "cell_type": "markdown",
   "metadata": {},
   "source": [
    "# Simulation results"
   ]
  },
  {
   "cell_type": "code",
   "execution_count": 9,
   "metadata": {},
   "outputs": [],
   "source": [
    "model_original=Concretemodel_Need_Data_original['model']\n",
    "reaction_kcat_MW_original=Concretemodel_Need_Data_original['reaction_kcat_MW']\n",
    "reaction_g0_original=Concretemodel_Need_Data_original['reaction_g0']\n",
    "coef_matrix_original=Concretemodel_Need_Data_original['coef_matrix']\n",
    "metabolite_list_original=Concretemodel_Need_Data_original['metabolite_list']\n",
    "\n",
    "use_result_original = Get_Results_Thermodynamics(model_original,Concretemodel_original,reaction_kcat_MW_original,reaction_g0_original,coef_matrix_original,metabolite_list_original)\n",
    "\n",
    "use_result_original = use_result_original[use_result_original['flux'] > 1e-10] \n",
    "use_result_original = use_result_original.sort_values(by = 'flux',axis = 0,ascending = False)\n",
    "use_result_original[\"reaction\"] = use_result_original.apply(lambda row: model_original.reactions.get_by_id(row.name).reaction, axis = 1)\n",
    "use_result_original[\"gpr\"] = use_result_original.apply(lambda row: model_original.reactions.get_by_id(row.name).gene_reaction_rule, axis = 1)"
   ]
  },
  {
   "cell_type": "code",
   "execution_count": 11,
   "metadata": {},
   "outputs": [
    {
     "name": "stdout",
     "output_type": "stream",
     "text": [
      "6.86483984598555\n"
     ]
    }
   ],
   "source": [
    "#output the fluxes for butyrate intake reaction\n",
    "\n",
    "print(use_result_original['flux']['EX_ac_e_reverse']/180*60)"
   ]
  }
 ],
 "metadata": {
  "kernelspec": {
   "display_name": "enzyme",
   "language": "python",
   "name": "enzyme"
  },
  "language_info": {
   "codemirror_mode": {
    "name": "ipython",
    "version": 3
   },
   "file_extension": ".py",
   "mimetype": "text/x-python",
   "name": "python",
   "nbconvert_exporter": "python",
   "pygments_lexer": "ipython3",
   "version": "3.6.5"
  }
 },
 "nbformat": 4,
 "nbformat_minor": 4
}
